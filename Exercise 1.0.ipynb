{
 "cells": [
  {
   "cell_type": "markdown",
   "id": "bb223aef",
   "metadata": {},
   "source": [
    "# Task 1"
   ]
  },
  {
   "cell_type": "markdown",
   "id": "a1ee794f",
   "metadata": {},
   "source": [
    "### 1) Write a program to get the data type of a data"
   ]
  },
  {
   "cell_type": "code",
   "execution_count": 1,
   "id": "2c2d3350",
   "metadata": {},
   "outputs": [
    {
     "data": {
      "text/plain": [
       "str"
      ]
     },
     "execution_count": 1,
     "metadata": {},
     "output_type": "execute_result"
    }
   ],
   "source": [
    "a='abcs'\n",
    "type(a)"
   ]
  },
  {
   "cell_type": "markdown",
   "id": "df059c9d",
   "metadata": {},
   "source": [
    "### 2) Write a program to convert a integer data type to float data type"
   ]
  },
  {
   "cell_type": "code",
   "execution_count": 2,
   "id": "cecab610",
   "metadata": {},
   "outputs": [
    {
     "data": {
      "text/plain": [
       "10.0"
      ]
     },
     "execution_count": 2,
     "metadata": {},
     "output_type": "execute_result"
    }
   ],
   "source": [
    "x=10\n",
    "float(x)"
   ]
  },
  {
   "cell_type": "markdown",
   "id": "cd0818d2",
   "metadata": {},
   "source": [
    "### 3) Write a program to convert a integer data type to float data type and vice versa"
   ]
  },
  {
   "cell_type": "code",
   "execution_count": 4,
   "id": "765d3f19",
   "metadata": {},
   "outputs": [
    {
     "name": "stdout",
     "output_type": "stream",
     "text": [
      "10.0\n",
      "10\n"
     ]
    }
   ],
   "source": [
    "x=10\n",
    "a=float(x)\n",
    "y=10.0\n",
    "b=int(y)\n",
    "print(a)\n",
    "print(b)\n"
   ]
  },
  {
   "cell_type": "markdown",
   "id": "4e2443ef",
   "metadata": {},
   "source": [
    "### 4) Write a programme to get the actual location of the data"
   ]
  },
  {
   "cell_type": "code",
   "execution_count": 5,
   "id": "f0b59e61",
   "metadata": {},
   "outputs": [
    {
     "data": {
      "text/plain": [
       "2417533413968"
      ]
     },
     "execution_count": 5,
     "metadata": {},
     "output_type": "execute_result"
    }
   ],
   "source": [
    "a=10\n",
    "id(a)"
   ]
  },
  {
   "cell_type": "markdown",
   "id": "0aa86b32",
   "metadata": {},
   "source": [
    "### 5) Give an example of implict conversion and explict conversion "
   ]
  },
  {
   "cell_type": "code",
   "execution_count": 9,
   "id": "5bcfbfab",
   "metadata": {},
   "outputs": [
    {
     "name": "stdout",
     "output_type": "stream",
     "text": [
      "implict conversion 66.3\n",
      "explict conversion 66\n"
     ]
    }
   ],
   "source": [
    "x=33\n",
    "y=33.3\n",
    "z=int(y)\n",
    "c=x+y\n",
    "d=x+z\n",
    "print('implict conversion', c)\n",
    "print('explict conversion', d)"
   ]
  },
  {
   "cell_type": "markdown",
   "id": "cccfd0ac",
   "metadata": {},
   "source": [
    "### 6) Write a programme to prove that python is a case senstive language"
   ]
  },
  {
   "cell_type": "code",
   "execution_count": 10,
   "id": "8e939e56",
   "metadata": {},
   "outputs": [
    {
     "ename": "SyntaxError",
     "evalue": "invalid syntax (3813835282.py, line 2)",
     "output_type": "error",
     "traceback": [
      "\u001b[1;36m  Input \u001b[1;32mIn [10]\u001b[1;36m\u001b[0m\n\u001b[1;33m    print('my age is :' X)\u001b[0m\n\u001b[1;37m                        ^\u001b[0m\n\u001b[1;31mSyntaxError\u001b[0m\u001b[1;31m:\u001b[0m invalid syntax\n"
     ]
    }
   ],
   "source": [
    "x=10\n",
    "print('my age is :' X)"
   ]
  },
  {
   "cell_type": "markdown",
   "id": "b7240bca",
   "metadata": {},
   "source": [
    "### 7) Write a programme to get a syntax error"
   ]
  },
  {
   "cell_type": "code",
   "execution_count": 11,
   "id": "e0e2feb3",
   "metadata": {},
   "outputs": [
    {
     "ename": "SyntaxError",
     "evalue": "invalid syntax (3813835282.py, line 2)",
     "output_type": "error",
     "traceback": [
      "\u001b[1;36m  Input \u001b[1;32mIn [11]\u001b[1;36m\u001b[0m\n\u001b[1;33m    print('my age is :' X)\u001b[0m\n\u001b[1;37m                        ^\u001b[0m\n\u001b[1;31mSyntaxError\u001b[0m\u001b[1;31m:\u001b[0m invalid syntax\n"
     ]
    }
   ],
   "source": [
    "x=10\n",
    "print('my age is :' X)"
   ]
  },
  {
   "cell_type": "markdown",
   "id": "476a42dc",
   "metadata": {},
   "source": [
    "### 8) Write a programme to get a type error"
   ]
  },
  {
   "cell_type": "code",
   "execution_count": 12,
   "id": "05c3a03c",
   "metadata": {},
   "outputs": [
    {
     "ename": "TypeError",
     "evalue": "can only concatenate str (not \"int\") to str",
     "output_type": "error",
     "traceback": [
      "\u001b[1;31m---------------------------------------------------------------------------\u001b[0m",
      "\u001b[1;31mTypeError\u001b[0m                                 Traceback (most recent call last)",
      "Input \u001b[1;32mIn [12]\u001b[0m, in \u001b[0;36m<cell line: 2>\u001b[1;34m()\u001b[0m\n\u001b[0;32m      1\u001b[0m x\u001b[38;5;241m=\u001b[39m\u001b[38;5;124m'\u001b[39m\u001b[38;5;124mhjgb\u001b[39m\u001b[38;5;124m'\u001b[39m\n\u001b[1;32m----> 2\u001b[0m y\u001b[38;5;241m=\u001b[39m\u001b[43mx\u001b[49m\u001b[38;5;241;43m+\u001b[39;49m\u001b[38;5;241;43m10\u001b[39;49m\n\u001b[0;32m      3\u001b[0m y\n",
      "\u001b[1;31mTypeError\u001b[0m: can only concatenate str (not \"int\") to str"
     ]
    }
   ],
   "source": [
    "x='hjgb'\n",
    "y=x+10\n",
    "y"
   ]
  },
  {
   "cell_type": "markdown",
   "id": "718ca190",
   "metadata": {},
   "source": [
    "### 9) Give an example of mulitple statement in a single line"
   ]
  },
  {
   "cell_type": "code",
   "execution_count": 13,
   "id": "0f774ede",
   "metadata": {},
   "outputs": [
    {
     "data": {
      "text/plain": [
       "30"
      ]
     },
     "execution_count": 13,
     "metadata": {},
     "output_type": "execute_result"
    }
   ],
   "source": [
    "x=10 ; y=20 \n",
    "x+y"
   ]
  },
  {
   "cell_type": "markdown",
   "id": "88b31105",
   "metadata": {},
   "source": [
    "### 10) Give an example of single line statement in multiple line"
   ]
  },
  {
   "cell_type": "code",
   "execution_count": 68,
   "id": "fb17d097",
   "metadata": {},
   "outputs": [],
   "source": [
    "#add the numbers 2,6,9,5,3"
   ]
  },
  {
   "cell_type": "code",
   "execution_count": 14,
   "id": "ef271816",
   "metadata": {},
   "outputs": [
    {
     "data": {
      "text/plain": [
       "25"
      ]
     },
     "execution_count": 14,
     "metadata": {},
     "output_type": "execute_result"
    }
   ],
   "source": [
    "2+\\\n",
    "6\\\n",
    "+9\\\n",
    "+5+\\\n",
    "3"
   ]
  },
  {
   "cell_type": "code",
   "execution_count": null,
   "id": "09171fe2",
   "metadata": {},
   "outputs": [],
   "source": []
  }
 ],
 "metadata": {
  "kernelspec": {
   "display_name": "Python 3 (ipykernel)",
   "language": "python",
   "name": "python3"
  },
  "language_info": {
   "codemirror_mode": {
    "name": "ipython",
    "version": 3
   },
   "file_extension": ".py",
   "mimetype": "text/x-python",
   "name": "python",
   "nbconvert_exporter": "python",
   "pygments_lexer": "ipython3",
   "version": "3.9.12"
  }
 },
 "nbformat": 4,
 "nbformat_minor": 5
}
